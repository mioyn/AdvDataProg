{
  "nbformat": 4,
  "nbformat_minor": 0,
  "metadata": {
    "colab": {
      "provenance": [],
      "authorship_tag": "ABX9TyNoHO/WSWRZLp1STbYwhUmX",
      "include_colab_link": true
    },
    "kernelspec": {
      "name": "python3",
      "display_name": "Python 3"
    },
    "language_info": {
      "name": "python"
    }
  },
  "cells": [
    {
      "cell_type": "markdown",
      "metadata": {
        "id": "view-in-github",
        "colab_type": "text"
      },
      "source": [
        "<a href=\"https://colab.research.google.com/github/mioyn/AdvDataProg/blob/main/theory/Probability.ipynb\" target=\"_parent\"><img src=\"https://colab.research.google.com/assets/colab-badge.svg\" alt=\"Open In Colab\"/></a>"
      ]
    },
    {
      "cell_type": "markdown",
      "source": [
        "# Probability\n",
        "Probability is the measure of how likely an event is to occur. It’s a fundamental concept in mathematics and statistics used to quantify uncertainty.\n",
        "\n",
        "In simple terms:\n",
        "\n",
        "A probability of 0 means something is impossible.\n",
        "\n",
        "A probability of 1 (or 100%) means something is certain to happen.\n",
        "\n",
        "A probability between 0 and 1 represents the likelihood of an event occurring.\n",
        "\n",
        "The formula for probability is:\n",
        "\n",
        "$$\n",
        "P(E) = \\frac{Number-of-favorable-outcomes}{Total-number-of-possible-outcomes}\n",
        "$$\n",
        "For example, if you flip a fair coin:\n",
        "\n",
        "- The probability of getting heads = $\\frac{1}{2}$ or 50%.\n",
        "- The probability of rolling a 6 on a fair six-sided die = $\\frac{1}{6} or 16.67%.\n",
        "\n",
        "### Conditional Probability\n",
        "Conditional Probability\n",
        "\n",
        "- The probability of one event occurring given that another event has already happened.\n",
        "$$\n",
        "𝑃(𝐴∣𝐵) = \\frac{𝑃(𝐴∩𝐵)}{𝑃(𝐵)}\n",
        "$$\n",
        "\n",
        "Example: If 40% of students in a school play football and 30% of those also play basketball,\n",
        "ie, the probability that a student plays basketball given that they play football is 0.3.\n",
        "\n",
        "$$\n",
        "P(basketball | footabll) = \\frac{P(basketball ∩ football)}{P(football)}\n",
        "$$\n"
      ],
      "metadata": {
        "id": "NsplMnrwL26X"
      }
    }
  ]
}