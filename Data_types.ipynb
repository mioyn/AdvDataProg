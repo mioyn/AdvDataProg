{
  "nbformat": 4,
  "nbformat_minor": 0,
  "metadata": {
    "colab": {
      "provenance": [],
      "authorship_tag": "ABX9TyP7jyAjDrL5WSs0gw8gjnWJ",
      "include_colab_link": true
    },
    "kernelspec": {
      "name": "python3",
      "display_name": "Python 3"
    },
    "language_info": {
      "name": "python"
    }
  },
  "cells": [
    {
      "cell_type": "markdown",
      "metadata": {
        "id": "view-in-github",
        "colab_type": "text"
      },
      "source": [
        "<a href=\"https://colab.research.google.com/github/mioyn/AdvDataProg/blob/main/Data_types.ipynb\" target=\"_parent\"><img src=\"https://colab.research.google.com/assets/colab-badge.svg\" alt=\"Open In Colab\"/></a>"
      ]
    },
    {
      "cell_type": "markdown",
      "source": [
        "## **Discrete, Continuous, Nominal, and Ordinal Data**\n",
        "\n",
        "### **1. Discrete Data**  \n",
        "- **Counted values** (whole numbers). Consists of distinct, separate values that can be counted.\n",
        "- Always whole numbers (no decimals or fractions)\n",
        "- **Examples:** Number of students, cars, calls.  \n",
        "\n",
        "### **2. Continuous Data**  \n",
        "- **Measured values** (can be fractional).  \n",
        "- **Examples:** Height, temperature, weight.  \n",
        "\n",
        "### **3. Nominal Data**  \n",
        "- Categorical, and consists of labels or names without any order.\n",
        "- Cannot be ranked or compared meaningfully.\n",
        "- Used for classification purposes.\n",
        "- **Examples:** Eye color, pet type, brand names.  \n",
        "\n",
        "### **4. Ordinal Data**  \n",
        "- Categorical but has a meaningful order or ranking.\n",
        "- Can be ranked, but the difference between categories is not necessarily equal.\n",
        "- Used in surveys, ratings, and classifications.  \n",
        "- **Examples:** Movie ratings, education level, survey responses.  \n",
        "\n",
        "However, you can count how many times each category appears. For example:\n",
        "\n",
        "You can count how many people have blue eyes $(nominal)$.\n",
        "\n",
        "You can count how many students rated a movie as 5-star $(ordinal)$.\n",
        "\n",
        "You can count how many times a temperature measurement falls within a certain range $(continuous)$.\n",
        "\n",
        "So, while the individual values of continuous, nominal, and ordinal data are not inherently countable, the frequency of occurrences within these types can be counted\n",
        "\n",
        "\n",
        "# Classifying these:\n",
        "\n",
        "1. **Ranking of cities by quality of life** → Berlin (1st), Zurich (2nd), Vienna (3rd)  \n",
        "2. **Blood types of patients** → A, B, AB, O  \n",
        "3. **Sprint times of athletes** → 9.58s, 10.12s, 10.37s  \n",
        "4. **Number of successful penalty kicks** → 5, 7, 9, 12  \n",
        "5. **Movie ratings** → ⭐⭐⭐⭐, ⭐⭐⭐, ⭐⭐⭐⭐⭐  \n",
        "\n",
        "\n",
        "1. Ordinal  \n",
        "2. Nominal  \n",
        "3. Continuous  \n",
        "4. Discrete  \n",
        "5. Ordinal  \n",
        "\n",
        "\n",
        "# Classifying these:\n",
        "1. Monthly income of employees in a company (in euros): €2,500, €3,200, €4,100, €5,500\n",
        "2. Types of smartphones owned by a group of people: iPhone, Samsung, Google Pixel, OnePlus\n",
        "3. Student grades in an exam: A, B, C, D, F\n",
        "4. Number of books read by each person in a year: 2, 5, 8, 12, 15\n",
        "5. Temperature recorded over a day (in Celsius): 14.5°C, 18.2°C, 22.8°C, 20.1°C\n",
        "\n",
        "\n",
        "1. Discrete\n",
        "2. Nominal\n",
        "3. Ordinal\n",
        "4. Discrete\n",
        "5. Continuous\n",
        "\n",
        "\n",
        "A single dataset can contain multiple types of data. Many real-world datasets mix discrete, continuous, nominal, and ordinal variables.\n",
        "\n",
        "Examples of Mixed Data Types in Datasets\n",
        "1. Customer Demographics Dataset (e.g., a retail database)\n",
        "  - Discrete: Number of purchases made per month\n",
        "  - Continuous: Customer's annual income\n",
        "  - Nominal: Gender (Male, Female, Non-binary)\n",
        "  - Ordinal: Customer satisfaction rating (Poor, Average, Good, Excellent)\n",
        "\n",
        "2. Medical Records Dataset (e.g., hospital patient data)\n",
        "  - Discrete: Number of doctor visits per year\n",
        "  - Continuous: Patient’s weight and height\n",
        "  - Nominal: Blood type (A, B, AB, O)\n",
        "  - Ordinal: Severity of illness (Mild, Moderate, Severe)\n",
        "\n",
        "3. Housing Dataset (e.g., California Housing Data)\n",
        "  - Discrete: Number of bedrooms in a house\n",
        "  - Continuous: House price or square footage\n",
        "  - Nominal: Type of house (apartment, condo, villa)\n",
        "  - Ordinal: Condition rating (Poor, Fair, Good, Excellent)\n",
        "\n",
        "Real-world data is diverse—different aspects of information are needed for meaningful analysis.\n",
        "\n",
        "Combining multiple data types helps in predictive modeling (e.g., predicting house prices based on categorical and numerical variables).\n",
        "\n",
        "Machine learning models handle mixed data types differently (some need numerical encoding for categorical features)."
      ],
      "metadata": {
        "id": "hecrXMNGe98h"
      }
    },
    {
      "cell_type": "code",
      "execution_count": null,
      "metadata": {
        "id": "nq5612cDe80e"
      },
      "outputs": [],
      "source": []
    }
  ]
}